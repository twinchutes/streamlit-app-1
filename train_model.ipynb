{
 "cells": [
  {
   "cell_type": "code",
   "execution_count": 1,
   "id": "73c8d389",
   "metadata": {},
   "outputs": [],
   "source": [
    "import pandas as pd\n",
    "import joblib\n",
    "from sklearn.pipeline import Pipeline\n",
    "from sklearn.feature_extraction.text import TfidfVectorizer\n",
    "from sklearn.naive_bayes import MultinomialNB"
   ]
  },
  {
   "cell_type": "code",
   "execution_count": 2,
   "id": "3b4015a0",
   "metadata": {},
   "outputs": [],
   "source": [
    "def read_data():\n",
    "    data = pd.read_csv('IMDB Dataset.csv')\n",
    "    x = data['review']\n",
    "    y = data['sentiment']\n",
    "    return x, y"
   ]
  },
  {
   "cell_type": "code",
   "execution_count": 3,
   "id": "7e677f7e",
   "metadata": {},
   "outputs": [],
   "source": [
    "def train_model(x, y):\n",
    "    vectorizer = TfidfVectorizer(\n",
    "            sublinear_tf=True, max_df=0.5, min_df=5, stop_words=\"english\"\n",
    "        )\n",
    "    clf = MultinomialNB()\n",
    "    pipe = Pipeline(steps=[\n",
    "        ('vectorizer', vectorizer),\n",
    "        ('clf', clf)\n",
    "    ])\n",
    "    return pipe.fit(x, y)"
   ]
  },
  {
   "cell_type": "code",
   "execution_count": 4,
   "id": "8692adeb",
   "metadata": {},
   "outputs": [],
   "source": [
    "def dump_to_file(pipeline_object):\n",
    "    joblib.dump(pipeline_object, 'sentiment_analysis.pkl')"
   ]
  },
  {
   "cell_type": "code",
   "execution_count": 5,
   "id": "72e02f68",
   "metadata": {},
   "outputs": [],
   "source": [
    "if __name__ == '__main__':\n",
    "    x, y = read_data()\n",
    "    model = train_model(x, y)\n",
    "    dump_to_file(model)"
   ]
  }
 ],
 "metadata": {
  "kernelspec": {
   "display_name": "Python 3",
   "language": "python",
   "name": "python3"
  },
  "language_info": {
   "codemirror_mode": {
    "name": "ipython",
    "version": 3
   },
   "file_extension": ".py",
   "mimetype": "text/x-python",
   "name": "python",
   "nbconvert_exporter": "python",
   "pygments_lexer": "ipython3",
   "version": "3.11.1"
  }
 },
 "nbformat": 4,
 "nbformat_minor": 5
}
